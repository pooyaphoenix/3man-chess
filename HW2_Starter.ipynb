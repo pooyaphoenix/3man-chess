{
  "nbformat": 4,
  "nbformat_minor": 0,
  "metadata": {
    "kernelspec": {
      "display_name": "Python 3",
      "language": "python",
      "name": "python3"
    },
    "language_info": {
      "codemirror_mode": {
        "name": "ipython",
        "version": 3
      },
      "file_extension": ".py",
      "mimetype": "text/x-python",
      "name": "python",
      "nbconvert_exporter": "python",
      "pygments_lexer": "ipython3",
      "version": "3.7.9"
    },
    "colab": {
      "name": "HW2-Starter.ipynb",
      "provenance": [],
      "collapsed_sections": [],
      "toc_visible": true,
      "include_colab_link": true
    }
  },
  "cells": [
    {
      "cell_type": "markdown",
      "metadata": {
        "id": "view-in-github",
        "colab_type": "text"
      },
      "source": [
        "<a href=\"https://colab.research.google.com/github/pooyaphoenix/3man-chess/blob/master/HW2_Starter.ipynb\" target=\"_parent\"><img src=\"https://colab.research.google.com/assets/colab-badge.svg\" alt=\"Open In Colab\"/></a>"
      ]
    },
    {
      "cell_type": "markdown",
      "metadata": {
        "id": "AbCvaFaKt_wZ"
      },
      "source": [
        "# Neural Networks: Hand Sign Detection\n"
      ]
    },
    {
      "cell_type": "code",
      "metadata": {
        "colab": {
          "base_uri": "https://localhost:8080/"
        },
        "id": "i55RMFjElOJC",
        "outputId": "9cba83e3-7011-4816-8f4c-a8a419efc7a5"
      },
      "source": [
        "from google.colab import drive\n",
        "drive.mount('/content/drive')"
      ],
      "execution_count": null,
      "outputs": [
        {
          "output_type": "stream",
          "text": [
            "Drive already mounted at /content/drive; to attempt to forcibly remount, call drive.mount(\"/content/drive\", force_remount=True).\n"
          ],
          "name": "stdout"
        }
      ]
    },
    {
      "cell_type": "markdown",
      "metadata": {
        "id": "5Cv517MIt_wk"
      },
      "source": [
        "We will start by loading the packages:"
      ]
    },
    {
      "cell_type": "code",
      "metadata": {
        "id": "siANc8fKt_wk"
      },
      "source": [
        "import os\n",
        "import string\n",
        "import zipfile\n",
        "import numpy as np\n",
        "import matplotlib.pyplot as plt\n",
        "import matplotlib.image as mpimg\n",
        "from tensorflow.keras.preprocessing.image import ImageDataGenerator\n",
        "from tensorflow.keras.models import Sequential\n",
        "from tensorflow.keras import layers\n",
        "import tensorflow as tf\n",
        "import matplotlib.pyplot as plt\n",
        "import keras\n",
        "from matplotlib import pyplot as plt\n",
        "from tensorflow.keras import regularizers\n",
        "\n",
        "%matplotlib inline"
      ],
      "execution_count": null,
      "outputs": []
    },
    {
      "cell_type": "markdown",
      "metadata": {
        "id": "SjM_Q1tJt_wl"
      },
      "source": [
        "Then, Unzip the data:"
      ]
    },
    {
      "cell_type": "code",
      "metadata": {
        "id": "zaPrkF9vt_wl"
      },
      "source": [
        "with zipfile.ZipFile('drive/MyDrive/data.zip', 'r') as zip_ref:\n",
        "    zip_ref.extractall('./data')"
      ],
      "execution_count": null,
      "outputs": []
    },
    {
      "cell_type": "markdown",
      "metadata": {
        "id": "aWnVkZwet_wm"
      },
      "source": [
        "and Normalize the data before feeding to model:"
      ]
    },
    {
      "cell_type": "code",
      "metadata": {
        "id": "yfR45f8nt_wm"
      },
      "source": [
        "train_datagen = ImageDataGenerator(rescale = 1/255, validation_split = 0.2)\n",
        "test_datagen = ImageDataGenerator(rescale = 1/255)"
      ],
      "execution_count": null,
      "outputs": []
    },
    {
      "cell_type": "markdown",
      "metadata": {
        "id": "bveNlINqt_wn"
      },
      "source": [
        "After, we load the dataset:"
      ]
    },
    {
      "cell_type": "code",
      "metadata": {
        "colab": {
          "base_uri": "https://localhost:8080/"
        },
        "id": "bqUFS9v5t_wn",
        "outputId": "9e22b0b5-3a63-4f1b-b1aa-a65b523ce2a6"
      },
      "source": [
        "train_generator = train_datagen.flow_from_directory(\n",
        "    './data/Train',\n",
        "    target_size = (28, 28),\n",
        "    batch_size = 128,\n",
        "    class_mode = \"sparse\",\n",
        "    color_mode='grayscale',\n",
        "    subset = 'training'\n",
        "    )\n",
        "\n",
        "validation_generator = train_datagen.flow_from_directory(\n",
        "    './data/Train',\n",
        "    target_size = (28, 28),\n",
        "    batch_size = 128,\n",
        "    class_mode = \"sparse\",\n",
        "    color_mode='grayscale',\n",
        "    subset = 'validation'\n",
        "    )\n",
        "\n",
        "test_generator = test_datagen.flow_from_directory(\n",
        "    './data/Test',\n",
        "    target_size = (28, 28),\n",
        "    batch_size = 128,\n",
        "    class_mode = \"sparse\",\n",
        "    color_mode='grayscale'\n",
        "    )"
      ],
      "execution_count": null,
      "outputs": [
        {
          "output_type": "stream",
          "text": [
            "Found 21974 images belonging to 24 classes.\n",
            "Found 5481 images belonging to 24 classes.\n",
            "Found 7172 images belonging to 24 classes.\n"
          ],
          "name": "stdout"
        }
      ]
    },
    {
      "cell_type": "markdown",
      "metadata": {
        "id": "dxfY94Mut_wo"
      },
      "source": [
        "The input data are from different 24 classes excluding J and Z:"
      ]
    },
    {
      "cell_type": "code",
      "metadata": {
        "colab": {
          "base_uri": "https://localhost:8080/"
        },
        "id": "5WckRFREt_wo",
        "outputId": "6cb661f2-cf64-4f1b-a3f7-5b0e2177f921"
      },
      "source": [
        "classes = [char for char in string.ascii_uppercase if char != \"J\" if char != \"Z\"]\n",
        "print(classes, end = \" \")"
      ],
      "execution_count": null,
      "outputs": [
        {
          "output_type": "stream",
          "text": [
            "['A', 'B', 'C', 'D', 'E', 'F', 'G', 'H', 'I', 'K', 'L', 'M', 'N', 'O', 'P', 'Q', 'R', 'S', 'T', 'U', 'V', 'W', 'X', 'Y'] "
          ],
          "name": "stdout"
        }
      ]
    },
    {
      "cell_type": "markdown",
      "metadata": {
        "id": "yugJdM5St_wo"
      },
      "source": [
        "Now, take a look at some examples of images in the dataset. Feel free to change the value of array range and re-run to see different examples."
      ]
    },
    {
      "cell_type": "code",
      "metadata": {
        "id": "0HMYP7Hdt_wp"
      },
      "source": [
        "def plotImages(images_arr):\n",
        "    fig, axes = plt.subplots(1, 10, figsize=(10,10))\n",
        "    axes = axes.flatten()\n",
        "    for img, ax in zip(images_arr, axes):\n",
        "        ax.imshow(img[:,:,0])\n",
        "        ax.axis('off')\n",
        "    plt.tight_layout()\n",
        "    plt.show()"
      ],
      "execution_count": null,
      "outputs": []
    },
    {
      "cell_type": "code",
      "metadata": {
        "colab": {
          "base_uri": "https://localhost:8080/",
          "height": 108
        },
        "id": "Ce8Po7y8t_wp",
        "outputId": "59c1128f-68ee-4a2b-cecd-0c8744f43f4a"
      },
      "source": [
        "sample_training_images, sample_training_labels = next(train_generator)\n",
        "plotImages(sample_training_images[:10])\n",
        "print(sample_training_labels[:10])"
      ],
      "execution_count": null,
      "outputs": [
        {
          "output_type": "display_data",
          "data": {
            "image/png": "[encoded data removed]",
            "text/plain": [
              "<Figure size 720x720 with 10 Axes>"
            ]
          },
          "metadata": {
            "tags": [],
            "needs_background": "light"
          }
        },
        {
          "output_type": "stream",
          "text": [
            "[10.  5. 16.  5.  5. 21. 15. 22.  1.  0.]\n"
          ],
          "name": "stdout"
        }
      ]
    },
    {
      "cell_type": "markdown",
      "metadata": {
        "id": "OabomVLmt_wq"
      },
      "source": [
        "From now implement your model.\n",
        "<br>\n",
        "Please add cells and explain yours developing steps and your results.\n",
        "\n",
        "<div dir='rtl'style=\"text-align: right;font-family:verdana;\">\n",
        "برای توضیحات از زبان فارسی استفاده نمایید.\n",
        "<br>\n",
        "موفق باشید\n",
        "\n",
        "</div>"
      ]
    },
    {
      "cell_type": "markdown",
      "metadata": {
        "id": "JCkGgeAhd0xg"
      },
      "source": [
        "<div dir='rtl'style=\"text-align: right;font-family:verdana;\">\n",
        "با توجه به اینکه تصاویر ما دارای ابعاد 28 در 28 هستند پس در لایه ورودی input_shape=(28, 28) خواهیم داشت \n",
        "<br>\n",
        "و همینطور در لایه مخفی یا همان  hidden layer از تابع قالیت relu استفاده میکنیم تا این تابع فعالیت به ازای ورودی های مثبت واکنش نشان میدهد و مقادیر منفی را همواره صفر در نظر میگیرد\n",
        "<br>\n",
        "در لایه آخر هم چون ما 24 عدد کلاس داریم که شامل حروفات انگلیسی به غیر از j و z میشود پس نتیجه عملکرد شبکه را بین این 24 کلاس  جستجو خواهیم کرد و هر کدام که مقدار بیشتری داشته باشد کلاس مورد پیش بینی ما خواهد بود.\n",
        "</div>"
      ]
    },
    {
      "cell_type": "code",
      "metadata": {
        "id": "OQGYS_sQt_wq"
      },
      "source": [
        "img_height=28\n",
        "img_width=28\n",
        "model = tf.keras.Sequential([\n",
        "    tf.keras.layers.Flatten(input_shape=(28, 28)),\n",
        "    tf.keras.layers.Dense(128, activation='relu'),\n",
        "    tf.keras.layers.Dense(24)\n",
        "])"
      ],
      "execution_count": null,
      "outputs": []
    },
    {
      "cell_type": "markdown",
      "metadata": {
        "id": "p_Ni6lVLfkMG"
      },
      "source": [
        "<div dir='rtl'style=\"text-align: right;font-family:verdana;\">\n",
        "\n",
        "در کد قسمت بالا ترتیب لایه های کدمان را ساختیم حال در  قسمت  \n",
        "الگوریتم بهینه سازی خو را وارد میکنیم که میتواند شامل الگوریتم های بهینه سازی مثل:\n",
        "<br>\n",
        "Adam, Nadam , SGD  باشد\n",
        "<br>\n",
        "معیار سنجش عملکرد شبکه هم میتواند مقادیری متفاوتی مثل \n",
        "accuracy, recall, f1_score, precision داشته باشد \n",
        "\n",
        "<br>\n"
      ]
    },
    {
      "cell_type": "code",
      "metadata": {
        "id": "s4lOcq-HVt_0",
        "colab": {
          "base_uri": "https://localhost:8080/"
        },
        "outputId": "75dd584d-cf05-4bcb-bfd7-26a823c16002"
      },
      "source": [
        "model.compile(optimizer='Adam',\n",
        "              loss=tf.keras.losses.SparseCategoricalCrossentropy(from_logits=True),\n",
        "              metrics=['accuracy'])\n",
        "model.summary()\n"
      ],
      "execution_count": null,
      "outputs": [
        {
          "output_type": "stream",
          "text": [
            "Model: \"sequential\"\n",
            "_________________________________________________________________\n",
            "Layer (type)                 Output Shape              Param #   \n",
            "=================================================================\n",
            "flatten (Flatten)            (None, 784)               0         \n",
            "_________________________________________________________________\n",
            "dense (Dense)                (None, 128)               100480    \n",
            "_________________________________________________________________\n",
            "dense_1 (Dense)              (None, 24)                3096      \n",
            "=================================================================\n",
            "Total params: 103,576\n",
            "Trainable params: 103,576\n",
            "Non-trainable params: 0\n",
            "_________________________________________________________________\n"
          ],
          "name": "stdout"
        }
      ]
    },
    {
      "cell_type": "markdown",
      "metadata": {
        "id": "uzLpznkRh6_G"
      },
      "source": [
        "<div dir='rtl'style=\"text-align: right;font-family:verdana;\">\n",
        "در کد شکل پایین مدل ساخته شده در قسمت های بالا را روی داده های آموزشی و داده ها اعتبار سنجی خود اجرا میکنیم \n",
        "\n",
        "<br>\n",
        "مشاهده میکنیم که  epochs دارای مقدار 25 میباشد و بعد از مقدار 25 مدل پیشرفت زیادی ندارد پس به همین مقدار بسنده میکنیم \n",
        "<br>\n",
        "در اجرای هر یک از epoch ها میزان زمان طی شده به ازای هر epoch  و همینطور loss و accuracy برای داده ی train , validation را مشاهده میکنیم .\n",
        "<br>\n",
        "برای مثال برای epoch 10 داریم:\n",
        "\n",
        " 6s 33ms/step - loss: 0.5644 - accuracy: 0.8523 - val_loss: 0.5612 - val_accuracy: 0.8473\n",
        "\n",
        "</div>\n",
        "\n"
      ]
    },
    {
      "cell_type": "markdown",
      "metadata": {
        "id": "i3KI4exsh3L4"
      },
      "source": [
        ""
      ]
    },
    {
      "cell_type": "code",
      "metadata": {
        "colab": {
          "base_uri": "https://localhost:8080/"
        },
        "id": "tf5ugEUfWBUQ",
        "outputId": "8b8b8cc4-a56a-43a3-ba8d-5beab248d144"
      },
      "source": [
        "epochs = 25\n",
        "history = model.fit(\n",
        "  train_generator,\n",
        "  validation_data=validation_generator,\n",
        "  epochs=epochs,\n",
        ")"
      ],
      "execution_count": null,
      "outputs": [
        {
          "output_type": "stream",
          "text": [
            "Epoch 1/25\n",
            "WARNING:tensorflow:Model was constructed with shape (None, 28, 28) for input KerasTensor(type_spec=TensorSpec(shape=(None, 28, 28), dtype=tf.float32, name='flatten_input'), name='flatten_input', description=\"created by layer 'flatten_input'\"), but it was called on an input with incompatible shape (None, None, None, None).\n",
            "WARNING:tensorflow:Model was constructed with shape (None, 28, 28) for input KerasTensor(type_spec=TensorSpec(shape=(None, 28, 28), dtype=tf.float32, name='flatten_input'), name='flatten_input', description=\"created by layer 'flatten_input'\"), but it was called on an input with incompatible shape (None, None, None, None).\n",
            "172/172 [==============================] - ETA: 0s - loss: 2.9255 - accuracy: 0.1630WARNING:tensorflow:Model was constructed with shape (None, 28, 28) for input KerasTensor(type_spec=TensorSpec(shape=(None, 28, 28), dtype=tf.float32, name='flatten_input'), name='flatten_input', description=\"created by layer 'flatten_input'\"), but it was called on an input with incompatible shape (None, None, None, None).\n",
            "172/172 [==============================] - 7s 36ms/step - loss: 2.9237 - accuracy: 0.1636 - val_loss: 2.0982 - val_accuracy: 0.4129\n",
            "Epoch 2/25\n",
            "172/172 [==============================] - 6s 34ms/step - loss: 1.9266 - accuracy: 0.4668 - val_loss: 1.5789 - val_accuracy: 0.5718\n",
            "Epoch 3/25\n",
            "172/172 [==============================] - 6s 34ms/step - loss: 1.5115 - accuracy: 0.5856 - val_loss: 1.3231 - val_accuracy: 0.6238\n",
            "Epoch 4/25\n",
            "172/172 [==============================] - 6s 34ms/step - loss: 1.2598 - accuracy: 0.6440 - val_loss: 1.1499 - val_accuracy: 0.6793\n",
            "Epoch 5/25\n",
            "172/172 [==============================] - 6s 34ms/step - loss: 1.1079 - accuracy: 0.6897 - val_loss: 1.0111 - val_accuracy: 0.7188\n",
            "Epoch 6/25\n",
            "172/172 [==============================] - 6s 34ms/step - loss: 0.9788 - accuracy: 0.7298 - val_loss: 0.9366 - val_accuracy: 0.7349\n",
            "Epoch 7/25\n",
            "172/172 [==============================] - 6s 34ms/step - loss: 0.8868 - accuracy: 0.7510 - val_loss: 0.8268 - val_accuracy: 0.7758\n",
            "Epoch 8/25\n",
            "172/172 [==============================] - 6s 34ms/step - loss: 0.7952 - accuracy: 0.7854 - val_loss: 0.7747 - val_accuracy: 0.7907\n",
            "Epoch 9/25\n",
            "172/172 [==============================] - 6s 34ms/step - loss: 0.7246 - accuracy: 0.8046 - val_loss: 0.7217 - val_accuracy: 0.8042\n",
            "Epoch 10/25\n",
            "172/172 [==============================] - 6s 34ms/step - loss: 0.6922 - accuracy: 0.8104 - val_loss: 0.6464 - val_accuracy: 0.8228\n",
            "Epoch 11/25\n",
            "172/172 [==============================] - 6s 34ms/step - loss: 0.6237 - accuracy: 0.8361 - val_loss: 0.6079 - val_accuracy: 0.8391\n",
            "Epoch 12/25\n",
            "172/172 [==============================] - 6s 35ms/step - loss: 0.5712 - accuracy: 0.8496 - val_loss: 0.5527 - val_accuracy: 0.8613\n",
            "Epoch 13/25\n",
            "172/172 [==============================] - 6s 34ms/step - loss: 0.5357 - accuracy: 0.8642 - val_loss: 0.5255 - val_accuracy: 0.8688\n",
            "Epoch 14/25\n",
            "172/172 [==============================] - 6s 34ms/step - loss: 0.4998 - accuracy: 0.8756 - val_loss: 0.4964 - val_accuracy: 0.8695\n",
            "Epoch 15/25\n",
            "172/172 [==============================] - 6s 34ms/step - loss: 0.4579 - accuracy: 0.8881 - val_loss: 0.4787 - val_accuracy: 0.8668\n",
            "Epoch 16/25\n",
            "172/172 [==============================] - 6s 34ms/step - loss: 0.4239 - accuracy: 0.8947 - val_loss: 0.4065 - val_accuracy: 0.9046\n",
            "Epoch 17/25\n",
            "172/172 [==============================] - 6s 33ms/step - loss: 0.3954 - accuracy: 0.9035 - val_loss: 0.4003 - val_accuracy: 0.8935\n",
            "Epoch 18/25\n",
            "172/172 [==============================] - 6s 34ms/step - loss: 0.3779 - accuracy: 0.9082 - val_loss: 0.3667 - val_accuracy: 0.9161\n",
            "Epoch 19/25\n",
            "172/172 [==============================] - 6s 34ms/step - loss: 0.3432 - accuracy: 0.9152 - val_loss: 0.3352 - val_accuracy: 0.9194\n",
            "Epoch 20/25\n",
            "172/172 [==============================] - 6s 34ms/step - loss: 0.3224 - accuracy: 0.9267 - val_loss: 0.3058 - val_accuracy: 0.9396\n",
            "Epoch 21/25\n",
            "172/172 [==============================] - 6s 33ms/step - loss: 0.2924 - accuracy: 0.9361 - val_loss: 0.3053 - val_accuracy: 0.9325\n",
            "Epoch 22/25\n",
            "172/172 [==============================] - 6s 35ms/step - loss: 0.2790 - accuracy: 0.9358 - val_loss: 0.2817 - val_accuracy: 0.9330\n",
            "Epoch 23/25\n",
            "172/172 [==============================] - 6s 34ms/step - loss: 0.2558 - accuracy: 0.9454 - val_loss: 0.2774 - val_accuracy: 0.9214\n",
            "Epoch 24/25\n",
            "172/172 [==============================] - 6s 33ms/step - loss: 0.2405 - accuracy: 0.9467 - val_loss: 0.2244 - val_accuracy: 0.9606\n",
            "Epoch 25/25\n",
            "172/172 [==============================] - 6s 34ms/step - loss: 0.2123 - accuracy: 0.9609 - val_loss: 0.2126 - val_accuracy: 0.9611\n"
          ],
          "name": "stdout"
        }
      ]
    },
    {
      "cell_type": "code",
      "metadata": {
        "colab": {
          "base_uri": "https://localhost:8080/"
        },
        "id": "zel_yPYiXgXY",
        "outputId": "e77800af-5bb7-4e8b-8302-2ed23c0b86b9"
      },
      "source": [
        "test_loss, test_acc = model.evaluate(test_generator, verbose=2)\n",
        "print('\\nTest accuracy:', test_acc)\n",
        "print(type(test_acc))"
      ],
      "execution_count": null,
      "outputs": [
        {
          "output_type": "stream",
          "text": [
            "57/57 - 1s - loss: 0.9848 - accuracy: 0.7287\n",
            "\n",
            "Test accuracy: 0.7286670207977295\n",
            "<class 'float'>\n"
          ],
          "name": "stdout"
        }
      ]
    },
    {
      "cell_type": "markdown",
      "metadata": {
        "id": "lgvw04NKjTUf"
      },
      "source": [
        "<div dir='rtl'style=\"text-align: right;font-family:verdana;\">\n",
        "\n",
        "بعد از اجرای مدل روی داده های تست به دقت بالای 70 درصد دست پیدا میکنیم\n",
        "<br>\n",
        "در قسمت پایین سعی میکنیم نمودار validation  و train  را رسم میکنیم بعد از رسم مشاهده میکنیم که در هر دو نمودار loss و  accuracy  داده های validation معمولا به خط train نزدیک هستن این در حالیست که در داده های overfit یا underfit شده این دو خط واگرایی نسبت به هم دارند \n",
        "\n",
        "</div>\n",
        "\n",
        "\n"
      ]
    },
    {
      "cell_type": "code",
      "metadata": {
        "colab": {
          "base_uri": "https://localhost:8080/",
          "height": 590
        },
        "id": "vZwXXTFk4aKC",
        "outputId": "1db2a3f6-273a-414e-a1c9-fffc6b8af5a1"
      },
      "source": [
        "print(history.history.keys())\n",
        "# summarize history for accuracy\n",
        "plt.plot(history.history['accuracy'])\n",
        "plt.plot(history.history['val_accuracy'])\n",
        "plt.title('model accuracy')\n",
        "plt.ylabel('accuracy')\n",
        "plt.xlabel('epoch')\n",
        "plt.legend(['Train', 'Validation'], loc='upper left')\n",
        "plt.show()\n",
        "# summarize history for loss\n",
        "plt.plot(history.history['loss'])\n",
        "plt.plot(history.history['val_loss'])\n",
        "plt.title('model loss')\n",
        "plt.ylabel('loss')\n",
        "plt.xlabel('epoch')\n",
        "plt.legend(['Train', 'Validation'], loc='upper left')\n",
        "plt.show()"
      ],
      "execution_count": null,
      "outputs": [
        {
          "output_type": "stream",
          "text": [
            "dict_keys(['loss', 'accuracy', 'val_loss', 'val_accuracy'])\n"
          ],
          "name": "stdout"
        },
        {
          "output_type": "display_data",
          "data": {
            "image/png": "[encoded data removed]",
            "text/plain": [
              "<Figure size 432x288 with 1 Axes>"
            ]
          },
          "metadata": {
            "tags": [],
            "needs_background": "light"
          }
        },
        {
          "output_type": "display_data",
          "data": {
            "image/png": "[encoded data removed]",
            "text/plain": [
              "<Figure size 432x288 with 1 Axes>"
            ]
          },
          "metadata": {
            "tags": [],
            "needs_background": "light"
          }
        }
      ]
    },
    {
      "cell_type": "markdown",
      "metadata": {
        "id": "sBDJM4NnBRw3"
      },
      "source": [
        "<div dir='rtl'style=\"text-align: right;font-family:verdana;\">\n",
        "برای حل اختلاف accuracy بین داده های آموزشی و  آزمون در شبکه خود تغییراتی اعمال میکنیم \n",
        "<br>\n",
        "تغییرات شامل اضافه کردن متد dropout بین لایه های مخفی به میزان 0.3 میباشد  و همینطور اضافه کردن regularization l2 به اندازه 0.0005 \n",
        "\n",
        "اضافه کردن این دو تکنیک باعث  کاهش اختلاف در دقت داده های آموزشی و آزمون میشود \n",
        "\n",
        "البته یک لایه مخفی با 128 نود نیز اضافه کردیم که منجر به افزایش دقت بشود.\n",
        "</div>"
      ]
    },
    {
      "cell_type": "code",
      "metadata": {
        "colab": {
          "base_uri": "https://localhost:8080/"
        },
        "id": "boyM8U-_7Gwu",
        "outputId": "930d24f1-f771-4c74-a966-5a185830de77"
      },
      "source": [
        "img_height=28\n",
        "img_width=28\n",
        "model = tf.keras.Sequential([\n",
        "    tf.keras.layers.Flatten(input_shape=(28, 28)),\n",
        "    tf.keras.layers.Dense(128, \n",
        "                          kernel_regularizer=regularizers.l2(0.0001),\n",
        "                          activation='relu'),\n",
        "    tf.keras.layers.Dense(128, \n",
        "                      kernel_regularizer=regularizers.l2(0.0001),\n",
        "                      activation='relu'),\n",
        "    tf.keras.layers.Dropout(0.2),\n",
        "\n",
        "    tf.keras.layers.Dense(24)\n",
        "])\n",
        "\n",
        "model.compile(optimizer='Adam',\n",
        "              loss=tf.keras.losses.SparseCategoricalCrossentropy(from_logits=True),\n",
        "              metrics=['accuracy'])\n",
        "model.summary()"
      ],
      "execution_count": null,
      "outputs": [
        {
          "output_type": "stream",
          "text": [
            "Model: \"sequential_1\"\n",
            "_________________________________________________________________\n",
            "Layer (type)                 Output Shape              Param #   \n",
            "=================================================================\n",
            "flatten_1 (Flatten)          (None, 784)               0         \n",
            "_________________________________________________________________\n",
            "dense_2 (Dense)              (None, 128)               100480    \n",
            "_________________________________________________________________\n",
            "dense_3 (Dense)              (None, 128)               16512     \n",
            "_________________________________________________________________\n",
            "dropout (Dropout)            (None, 128)               0         \n",
            "_________________________________________________________________\n",
            "dense_4 (Dense)              (None, 24)                3096      \n",
            "=================================================================\n",
            "Total params: 120,088\n",
            "Trainable params: 120,088\n",
            "Non-trainable params: 0\n",
            "_________________________________________________________________\n"
          ],
          "name": "stdout"
        }
      ]
    },
    {
      "cell_type": "code",
      "metadata": {
        "colab": {
          "base_uri": "https://localhost:8080/"
        },
        "id": "3fhYyJif7VtU",
        "outputId": "892c2688-dd1f-473d-e5e0-840b6ee608ee"
      },
      "source": [
        "epochs = 20\n",
        "history = model.fit(\n",
        "  train_generator,\n",
        "  validation_data=validation_generator,\n",
        "  epochs=epochs,\n",
        ")"
      ],
      "execution_count": null,
      "outputs": [
        {
          "output_type": "stream",
          "text": [
            "Epoch 1/20\n",
            "WARNING:tensorflow:Model was constructed with shape (None, 28, 28) for input KerasTensor(type_spec=TensorSpec(shape=(None, 28, 28), dtype=tf.float32, name='flatten_1_input'), name='flatten_1_input', description=\"created by layer 'flatten_1_input'\"), but it was called on an input with incompatible shape (None, None, None, None).\n",
            "WARNING:tensorflow:Model was constructed with shape (None, 28, 28) for input KerasTensor(type_spec=TensorSpec(shape=(None, 28, 28), dtype=tf.float32, name='flatten_1_input'), name='flatten_1_input', description=\"created by layer 'flatten_1_input'\"), but it was called on an input with incompatible shape (None, None, None, None).\n",
            "171/172 [============================>.] - ETA: 0s - loss: 2.9070 - accuracy: 0.1525WARNING:tensorflow:Model was constructed with shape (None, 28, 28) for input KerasTensor(type_spec=TensorSpec(shape=(None, 28, 28), dtype=tf.float32, name='flatten_1_input'), name='flatten_1_input', description=\"created by layer 'flatten_1_input'\"), but it was called on an input with incompatible shape (None, None, None, None).\n",
            "172/172 [==============================] - 7s 36ms/step - loss: 2.9024 - accuracy: 0.1537 - val_loss: 1.7806 - val_accuracy: 0.4682\n",
            "Epoch 2/20\n",
            "172/172 [==============================] - 6s 35ms/step - loss: 1.7111 - accuracy: 0.4652 - val_loss: 1.2801 - val_accuracy: 0.6267\n",
            "Epoch 3/20\n",
            "172/172 [==============================] - 6s 35ms/step - loss: 1.2972 - accuracy: 0.5909 - val_loss: 1.0633 - val_accuracy: 0.6853\n",
            "Epoch 4/20\n",
            "172/172 [==============================] - 6s 35ms/step - loss: 1.0659 - accuracy: 0.6652 - val_loss: 0.8460 - val_accuracy: 0.7561\n",
            "Epoch 5/20\n",
            "172/172 [==============================] - 6s 35ms/step - loss: 0.8932 - accuracy: 0.7228 - val_loss: 0.7271 - val_accuracy: 0.7942\n",
            "Epoch 6/20\n",
            "172/172 [==============================] - 6s 35ms/step - loss: 0.7466 - accuracy: 0.7694 - val_loss: 0.5877 - val_accuracy: 0.8425\n",
            "Epoch 7/20\n",
            "172/172 [==============================] - 6s 35ms/step - loss: 0.6427 - accuracy: 0.8049 - val_loss: 0.4939 - val_accuracy: 0.8692\n",
            "Epoch 8/20\n",
            "172/172 [==============================] - 6s 36ms/step - loss: 0.5670 - accuracy: 0.8249 - val_loss: 0.4379 - val_accuracy: 0.8845\n",
            "Epoch 9/20\n",
            "172/172 [==============================] - 6s 35ms/step - loss: 0.4903 - accuracy: 0.8553 - val_loss: 0.3813 - val_accuracy: 0.9150\n",
            "Epoch 10/20\n",
            "172/172 [==============================] - 6s 35ms/step - loss: 0.4302 - accuracy: 0.8767 - val_loss: 0.3453 - val_accuracy: 0.9095\n",
            "Epoch 11/20\n",
            "172/172 [==============================] - 6s 35ms/step - loss: 0.3735 - accuracy: 0.8968 - val_loss: 0.2973 - val_accuracy: 0.9299\n",
            "Epoch 12/20\n",
            "172/172 [==============================] - 6s 35ms/step - loss: 0.3244 - accuracy: 0.9115 - val_loss: 0.2199 - val_accuracy: 0.9562\n",
            "Epoch 13/20\n",
            "172/172 [==============================] - 6s 35ms/step - loss: 0.2943 - accuracy: 0.9210 - val_loss: 0.2002 - val_accuracy: 0.9633\n",
            "Epoch 14/20\n",
            "172/172 [==============================] - 6s 35ms/step - loss: 0.2552 - accuracy: 0.9345 - val_loss: 0.1645 - val_accuracy: 0.9754\n",
            "Epoch 15/20\n",
            "172/172 [==============================] - 6s 35ms/step - loss: 0.2335 - accuracy: 0.9414 - val_loss: 0.1936 - val_accuracy: 0.9524\n",
            "Epoch 16/20\n",
            "172/172 [==============================] - 6s 35ms/step - loss: 0.2250 - accuracy: 0.9444 - val_loss: 0.1240 - val_accuracy: 0.9889\n",
            "Epoch 17/20\n",
            "172/172 [==============================] - 6s 35ms/step - loss: 0.2011 - accuracy: 0.9531 - val_loss: 0.1655 - val_accuracy: 0.9683\n",
            "Epoch 18/20\n",
            "172/172 [==============================] - 6s 35ms/step - loss: 0.1880 - accuracy: 0.9560 - val_loss: 0.1073 - val_accuracy: 0.9894\n",
            "Epoch 19/20\n",
            "172/172 [==============================] - 6s 35ms/step - loss: 0.1650 - accuracy: 0.9663 - val_loss: 0.1083 - val_accuracy: 0.9878\n",
            "Epoch 20/20\n",
            "172/172 [==============================] - 6s 35ms/step - loss: 0.1793 - accuracy: 0.9559 - val_loss: 0.0995 - val_accuracy: 0.9920\n"
          ],
          "name": "stdout"
        }
      ]
    },
    {
      "cell_type": "markdown",
      "metadata": {
        "id": "dd8Zl0zZNHpw"
      },
      "source": [
        "<div dir='rtl'style=\"text-align: right;font-family:verdana;\">\n",
        "در شکل پایین\n",
        "مشاهده میکنیم که نسبت به دقت پیش بینی روی داده های test در شبکه اول هم رشد داشته ایم و هم اختلاف با داده های train کاهش یافته است.\n",
        "</div>"
      ]
    },
    {
      "cell_type": "code",
      "metadata": {
        "colab": {
          "base_uri": "https://localhost:8080/"
        },
        "id": "PZfZIm4w88DW",
        "outputId": "998c062f-90d5-4186-8880-babc4e0e4ef1"
      },
      "source": [
        "test_loss, test_acc = model.evaluate(test_generator, verbose=2)\n",
        "print('\\nTest accuracy:', test_acc)\n",
        "print(type(test_acc))"
      ],
      "execution_count": null,
      "outputs": [
        {
          "output_type": "stream",
          "text": [
            "57/57 - 1s - loss: 0.9435 - accuracy: 0.7744\n",
            "\n",
            "Test accuracy: 0.7744004726409912\n",
            "<class 'float'>\n"
          ],
          "name": "stdout"
        }
      ]
    },
    {
      "cell_type": "code",
      "metadata": {
        "colab": {
          "base_uri": "https://localhost:8080/",
          "height": 590
        },
        "id": "SR6m9mqC9ljE",
        "outputId": "7c308d91-0bae-46d2-9909-656e1aef4812"
      },
      "source": [
        "print(history.history.keys())\n",
        "# summarize history for accuracy\n",
        "plt.plot(history.history['accuracy'])\n",
        "plt.plot(history.history['val_accuracy'])\n",
        "plt.title('model accuracy')\n",
        "plt.ylabel('accuracy')\n",
        "plt.xlabel('epoch')\n",
        "plt.legend(['Train', 'Validation'], loc='upper left')\n",
        "plt.show()\n",
        "# summarize history for loss\n",
        "plt.plot(history.history['loss'])\n",
        "plt.plot(history.history['val_loss'])\n",
        "plt.title('model loss')\n",
        "plt.ylabel('loss')\n",
        "plt.xlabel('epoch')\n",
        "plt.legend(['Train', 'Validation'], loc='upper left')\n",
        "plt.show()"
      ],
      "execution_count": null,
      "outputs": [
        {
          "output_type": "stream",
          "text": [
            "dict_keys(['loss', 'accuracy', 'val_loss', 'val_accuracy'])\n"
          ],
          "name": "stdout"
        },
        {
          "output_type": "display_data",
          "data": {
            "image/png": "[encoded data removed]",
            "text/plain": [
              "<Figure size 432x288 with 1 Axes>"
            ]
          },
          "metadata": {
            "tags": [],
            "needs_background": "light"
          }
        },
        {
          "output_type": "display_data",
          "data": {
            "image/png": "[encoded data removed]",
            "text/plain": [
              "<Figure size 432x288 with 1 Axes>"
            ]
          },
          "metadata": {
            "tags": [],
            "needs_background": "light"
          }
        }
      ]
    },
    {
      "cell_type": "code",
      "metadata": {
        "colab": {
          "base_uri": "https://localhost:8080/"
        },
        "id": "zga0R7bUcd77",
        "outputId": "55b8e256-10e9-4b7f-a9c5-6f0c9e8d161e"
      },
      "source": [
        "probability_model = tf.keras.Sequential([model, \n",
        "                                         tf.keras.layers.Softmax()])\n",
        "\n",
        "predictions = probability_model.predict(test_generator)\n",
        "predictions[1]\n"
      ],
      "execution_count": null,
      "outputs": [
        {
          "output_type": "stream",
          "text": [
            "WARNING:tensorflow:Model was constructed with shape (None, 28, 28) for input KerasTensor(type_spec=TensorSpec(shape=(None, 28, 28), dtype=tf.float32, name='sequential_1_input'), name='sequential_1_input', description=\"created by layer 'sequential_1_input'\"), but it was called on an input with incompatible shape (None, None, None, None).\n",
            "WARNING:tensorflow:Model was constructed with shape (None, 28, 28) for input KerasTensor(type_spec=TensorSpec(shape=(None, 28, 28), dtype=tf.float32, name='flatten_1_input'), name='flatten_1_input', description=\"created by layer 'flatten_1_input'\"), but it was called on an input with incompatible shape (None, None, None, None).\n"
          ],
          "name": "stdout"
        },
        {
          "output_type": "execute_result",
          "data": {
            "text/plain": [
              "array([1.4121011e-10, 8.8531389e-14, 4.3299902e-02, 2.0212742e-08,\n",
              "       3.2617681e-10, 1.4446162e-01, 1.4319258e-03, 9.8795944e-08,\n",
              "       7.1320955e-13, 1.9768600e-11, 2.8137342e-07, 1.7700588e-12,\n",
              "       6.3803176e-09, 8.1074935e-01, 3.5886415e-11, 4.8801265e-08,\n",
              "       2.1610542e-15, 3.7359857e-06, 1.8686620e-06, 1.1975343e-14,\n",
              "       3.1441569e-09, 2.3770310e-09, 5.1101288e-05, 7.3586123e-11],\n",
              "      dtype=float32)"
            ]
          },
          "metadata": {
            "tags": []
          },
          "execution_count": 29
        }
      ]
    },
    {
      "cell_type": "markdown",
      "metadata": {
        "id": "rMfRawRaYRfU"
      },
      "source": [
        "\n",
        "\n",
        "<div dir='rtl'style=\"text-align: right;font-family:verdana;\">\n",
        "پاسخ به سوالات مطرح شده در پروژه:\n",
        "\n",
        "پاسخ سوال اول \n",
        "\n",
        "جهت حل مشکل overfit از dropout  و regularization l2 استفاده کردیم \n",
        "\n",
        "پاسخ سوال دوم\n",
        "\n",
        "ابر پارامتر هایی مانند learning rate در قسمت الگوریتم بهینه سازی چون از کتابخانه tenserflow استفاده میکنیم بصور پیش فرض روی learning_rate=0.001 میباشد \n",
        "\n",
        "در مورد تعداد لایه های مخفی و میزان نود در هر لایه از روش تجربی و تا حدودی آزمون و خطا استفاده کردیم .\n",
        "\n",
        "در مورد epochs از میزان 20 استفاده کردیم چون بعد از عدد 20 شبکه پیشرفت آنچنانی نداشت و صرفا هدر رفت زمان داشتیم \n",
        "\n",
        "\n",
        "پاسخ سوال سوم \n",
        "\n",
        "در مقایسه الگوریتم های بهینه سازی بین adams  و SGD که همان gradien descent میباشد باید گفت که عملکرد بهینه ساز adams خیلی بهتر از SGD روی این داده آموزشی بود و به صورت کلی کمترین loss  و بیشترین Accuracy را الگوریتم Adams نسبت به دیگران الگوریتم ها دارا بود \n",
        "\n",
        "</div>\n",
        "\n"
      ]
    },
    {
      "cell_type": "code",
      "metadata": {
        "id": "4hP0edp_YkGV",
        "colab": {
          "base_uri": "https://localhost:8080/",
          "height": 231
        },
        "outputId": "b64f5fb6-ab84-46b9-9b5a-e2faa9ee8eb7"
      },
      "source": [
        "\n",
        "import tensorflow as tf\n",
        "\n",
        "#Prepare to feed input, i.e. feed_dict and placeholders\n",
        "w1 = tf.placeholder(\"float\", name=\"w1\")\n",
        "w2 = tf.placeholder(\"float\", name=\"w2\")\n",
        "b1= tf.Variable(2.0,name=\"bias\")\n",
        "feed_dict ={w1:4,w2:8}\n",
        "\n",
        "#Define a test operation that we will restore\n",
        "w3 = tf.add(w1,w2)\n",
        "w4 = tf.multiply(w3,b1,name=\"op_to_restore\")\n",
        "sess = tf.Session()\n",
        "sess.run(tf.global_variables_initializer())\n",
        "\n",
        "#Create a saver object which will save all the variables\n",
        "saver = tf.train.Saver()\n",
        "\n",
        "#Run the operation by feeding input\n",
        "print (sess.run(w4,feed_dict))\n",
        "#Prints 24 which is sum of (w1+w2)*b1 \n",
        "\n",
        "#Now, save the graph\n",
        "saver.save(sess, 'my_test_model',global_step=1000)"
      ],
      "execution_count": null,
      "outputs": [
        {
          "output_type": "error",
          "ename": "AttributeError",
          "evalue": "ignored",
          "traceback": [
            "\u001b[0;31m---------------------------------------------------------------------------\u001b[0m",
            "\u001b[0;31mAttributeError\u001b[0m                            Traceback (most recent call last)",
            "\u001b[0;32m<ipython-input-37-435642774de7>\u001b[0m in \u001b[0;36m<module>\u001b[0;34m()\u001b[0m\n\u001b[1;32m      3\u001b[0m \u001b[0;34m\u001b[0m\u001b[0m\n\u001b[1;32m      4\u001b[0m \u001b[0;31m#Prepare to feed input, i.e. feed_dict and placeholders\u001b[0m\u001b[0;34m\u001b[0m\u001b[0;34m\u001b[0m\u001b[0;34m\u001b[0m\u001b[0m\n\u001b[0;32m----> 5\u001b[0;31m \u001b[0mw1\u001b[0m \u001b[0;34m=\u001b[0m \u001b[0mtf\u001b[0m\u001b[0;34m.\u001b[0m\u001b[0mplaceholder\u001b[0m\u001b[0;34m(\u001b[0m\u001b[0;34m\"float\"\u001b[0m\u001b[0;34m,\u001b[0m \u001b[0mname\u001b[0m\u001b[0;34m=\u001b[0m\u001b[0;34m\"w1\"\u001b[0m\u001b[0;34m)\u001b[0m\u001b[0;34m\u001b[0m\u001b[0;34m\u001b[0m\u001b[0m\n\u001b[0m\u001b[1;32m      6\u001b[0m \u001b[0mw2\u001b[0m \u001b[0;34m=\u001b[0m \u001b[0mtf\u001b[0m\u001b[0;34m.\u001b[0m\u001b[0mplaceholder\u001b[0m\u001b[0;34m(\u001b[0m\u001b[0;34m\"float\"\u001b[0m\u001b[0;34m,\u001b[0m \u001b[0mname\u001b[0m\u001b[0;34m=\u001b[0m\u001b[0;34m\"w2\"\u001b[0m\u001b[0;34m)\u001b[0m\u001b[0;34m\u001b[0m\u001b[0;34m\u001b[0m\u001b[0m\n\u001b[1;32m      7\u001b[0m \u001b[0mb1\u001b[0m\u001b[0;34m=\u001b[0m \u001b[0mtf\u001b[0m\u001b[0;34m.\u001b[0m\u001b[0mVariable\u001b[0m\u001b[0;34m(\u001b[0m\u001b[0;36m2.0\u001b[0m\u001b[0;34m,\u001b[0m\u001b[0mname\u001b[0m\u001b[0;34m=\u001b[0m\u001b[0;34m\"bias\"\u001b[0m\u001b[0;34m)\u001b[0m\u001b[0;34m\u001b[0m\u001b[0;34m\u001b[0m\u001b[0m\n",
            "\u001b[0;31mAttributeError\u001b[0m: module 'tensorflow' has no attribute 'placeholder'"
          ]
        }
      ]
    }
  ]
}